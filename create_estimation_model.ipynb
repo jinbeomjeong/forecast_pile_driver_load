{
 "cells": [
  {
   "cell_type": "code",
   "id": "initial_id",
   "metadata": {
    "collapsed": true,
    "ExecuteTime": {
     "end_time": "2025-06-10T07:32:29.971822Z",
     "start_time": "2025-06-10T07:32:26.019909Z"
    }
   },
   "source": [
    "from utils.Dataset import load_logging_data, create_lstm_dataset\n",
    "\n",
    "import torch\n",
    "import torch.nn as nn\n",
    "import numpy as np\n",
    "import matplotlib.pyplot as plt\n",
    "import seaborn as sns"
   ],
   "outputs": [],
   "execution_count": 1
  },
  {
   "metadata": {
    "ExecuteTime": {
     "end_time": "2025-06-16T02:33:25.325403Z",
     "start_time": "2025-06-16T02:33:25.321247Z"
    }
   },
   "cell_type": "code",
   "source": [
    "from typing import List, Optional\n",
    "\n",
    "xs: List[Optional[str]] = []"
   ],
   "id": "92a774bf9ed32596",
   "outputs": [],
   "execution_count": 9
  },
  {
   "metadata": {
    "ExecuteTime": {
     "end_time": "2025-06-10T07:32:37.077647Z",
     "start_time": "2025-06-10T07:32:30.145835Z"
    }
   },
   "cell_type": "code",
   "source": [
    "train_dataset = load_logging_data(data_root_path='data/train')\n",
    "val_dataset = load_logging_data(data_root_path='data/val')"
   ],
   "id": "a58f8f2f8585241f",
   "outputs": [
    {
     "data": {
      "text/plain": [
       "Loading data...:   0%|          | 0/4 [00:00<?, ?it/s]"
      ],
      "application/vnd.jupyter.widget-view+json": {
       "version_major": 2,
       "version_minor": 0,
       "model_id": "057346f5db6c4c5d9455f74145b56890"
      }
     },
     "metadata": {},
     "output_type": "display_data"
    },
    {
     "data": {
      "text/plain": [
       "Loading data...:   0%|          | 0/2 [00:00<?, ?it/s]"
      ],
      "application/vnd.jupyter.widget-view+json": {
       "version_major": 2,
       "version_minor": 0,
       "model_id": "f1fb8672b98047548dec8275879335ed"
      }
     },
     "metadata": {},
     "output_type": "display_data"
    }
   ],
   "execution_count": 2
  },
  {
   "metadata": {
    "ExecuteTime": {
     "end_time": "2025-06-10T07:32:37.112860Z",
     "start_time": "2025-06-10T07:32:37.108859Z"
    }
   },
   "cell_type": "code",
   "source": [
    "angle_name_list = list(train_dataset.columns)[22:24] + list(train_dataset.columns)[26:28]\n",
    "pressure_name_list = list(train_dataset.columns)[18:20] + list(train_dataset.columns)[24:26]"
   ],
   "id": "56ea738d33f3d4e5",
   "outputs": [],
   "execution_count": 3
  },
  {
   "metadata": {
    "ExecuteTime": {
     "end_time": "2025-06-10T07:32:37.162878Z",
     "start_time": "2025-06-10T07:32:37.135416Z"
    }
   },
   "cell_type": "code",
   "source": [
    "train_dataset['power'] = train_dataset['pressure_1_pressure_transmitter_1_drive1 CH=23'] * train_dataset['caloutput_rotate_velocity CH=25']\n",
    "train_dataset = train_dataset[['pressure_1_pressure_transmitter_1_drive1 CH=23']+angle_name_list+['caloutput_rotate_velocity CH=25', 'caloutput_drill_depth CH=26', 'power']]\n",
    "train_dataset.describe()\n",
    "\n",
    "for angle_name in angle_name_list:\n",
    "    train_dataset[angle_name] = train_dataset[angle_name]/33\n",
    "\n",
    "train_dataset['pressure_1_pressure_transmitter_1_drive1 CH=23'] = train_dataset['pressure_1_pressure_transmitter_1_drive1 CH=23'] / 256\n",
    "train_dataset['caloutput_rotate_velocity CH=25'] = train_dataset['caloutput_rotate_velocity CH=25'] / 50\n",
    "train_dataset['caloutput_drill_depth CH=26'] = train_dataset['caloutput_drill_depth CH=26'] / 31\n",
    "train_dataset['power'] = train_dataset['power']/4100"
   ],
   "id": "ad5154583efaf5ea",
   "outputs": [],
   "execution_count": 4
  },
  {
   "metadata": {
    "ExecuteTime": {
     "end_time": "2025-06-10T07:32:37.203647Z",
     "start_time": "2025-06-10T07:32:37.183286Z"
    }
   },
   "cell_type": "code",
   "source": [
    "val_dataset['power'] = val_dataset['pressure_1_pressure_transmitter_1_drive1 CH=23'] * val_dataset['caloutput_rotate_velocity CH=25']\n",
    "val_dataset = val_dataset[['pressure_1_pressure_transmitter_1_drive1 CH=23']+angle_name_list+['caloutput_rotate_velocity CH=25', 'caloutput_drill_depth CH=26', 'power']]\n",
    "val_dataset.describe()\n",
    "\n",
    "for angle_name in angle_name_list:\n",
    "    val_dataset[angle_name] = val_dataset[angle_name]/33\n",
    "\n",
    "val_dataset['pressure_1_pressure_transmitter_1_drive1 CH=23'] = val_dataset['pressure_1_pressure_transmitter_1_drive1 CH=23'] / 256\n",
    "val_dataset['caloutput_rotate_velocity CH=25'] = val_dataset['caloutput_rotate_velocity CH=25'] / 50\n",
    "val_dataset['caloutput_drill_depth CH=26'] = val_dataset['caloutput_drill_depth CH=26'] / 31\n",
    "val_dataset['power'] = val_dataset['power']/4100"
   ],
   "id": "667f3d25dc61fa51",
   "outputs": [],
   "execution_count": 5
  },
  {
   "metadata": {
    "ExecuteTime": {
     "end_time": "2025-06-10T07:32:37.227036Z",
     "start_time": "2025-06-10T07:32:37.221670Z"
    }
   },
   "cell_type": "code",
   "source": [
    "train_extract_dataset = train_dataset[['pressure_1_pressure_transmitter_1_drive1 CH=23']+angle_name_list+['caloutput_rotate_velocity CH=25', 'caloutput_drill_depth CH=26', 'power']]\n",
    "val_extract_dataset = val_dataset[['pressure_1_pressure_transmitter_1_drive1 CH=23']+angle_name_list+['caloutput_rotate_velocity CH=25', 'caloutput_drill_depth CH=26', 'power']]"
   ],
   "id": "9312a2618248e1b6",
   "outputs": [],
   "execution_count": 6
  },
  {
   "metadata": {
    "ExecuteTime": {
     "end_time": "2025-06-10T07:32:37.289558Z",
     "start_time": "2025-06-10T07:32:37.250559Z"
    }
   },
   "cell_type": "code",
   "source": [
    "seq_len = 30\n",
    "pred_distance = 10\n",
    "\n",
    "\n",
    "train_feature, train_target = create_lstm_dataset(train_extract_dataset.values, seq_len=seq_len, pred_distance=pred_distance, target_idx_pos=7)\n",
    "val_feature, val_target = create_lstm_dataset(val_extract_dataset.values, seq_len=seq_len, pred_distance=pred_distance, target_idx_pos=7)"
   ],
   "id": "564e078681857907",
   "outputs": [],
   "execution_count": 7
  },
  {
   "metadata": {
    "ExecuteTime": {
     "end_time": "2025-06-10T07:32:37.323499Z",
     "start_time": "2025-06-10T07:32:37.316503Z"
    }
   },
   "cell_type": "code",
   "source": [
    "class SimpleTransformerRegression(nn.Module):\n",
    "    def __init__(self, input_dim, model_dim, num_heads, num_layers, dropout=0.1):\n",
    "        super().__init__()\n",
    "        self.model_dim = model_dim\n",
    "        # 입력 차원을 model_dim으로 맞춰주기 위한 선형 변환\n",
    "        self.input_linear = nn.Linear(input_dim, model_dim)\n",
    "\n",
    "        # TransformerEncoderLayer 정의\n",
    "        encoder_layer = nn.TransformerEncoderLayer(\n",
    "            d_model=model_dim,\n",
    "            nhead=num_heads,\n",
    "            dropout=dropout,\n",
    "            batch_first=True  # (batch_size, sequence_length, features) 형태로 입력 받음\n",
    "        )\n",
    "        # 여러 개의 EncoderLayer를 쌓아 TransformerEncoder 생성\n",
    "        self.transformer_encoder = nn.TransformerEncoder(encoder_layer, num_layers=num_layers)\n",
    "\n",
    "        # 최종 예측을 위한 회귀 헤드 (선형 레이어)\n",
    "        # 트랜스포머 인코더의 출력은 (batch_size, seq_len, model_dim) 형태\n",
    "        # 우리는 이 시퀀스 전체 정보를 압축하여 하나의 값을 예측해야 합니다.\n",
    "        # 여기서는 마지막 시점의 출력을 사용하거나, 모든 시점의 출력을 평균낼 수 있습니다.\n",
    "        # 여기서는 단순히 마지막 시점의 출력을 사용하여 회귀합니다.\n",
    "        self.output_linear = nn.Linear(model_dim, 1)\n",
    "\n",
    "    def forward(self, src):\n",
    "        # src: (batch_size, seq_len, input_dim)\n",
    "\n",
    "        # input_dim을 model_dim으로 변환\n",
    "        src = self.input_linear(src)  # (batch_size, seq_len, model_dim)\n",
    "\n",
    "        # TransformerEncoder에 입력 (batch_first=True 설정)\n",
    "        transformer_output = self.transformer_encoder(src)  # (batch_size, seq_len, model_dim)\n",
    "\n",
    "        # 마지막 시점의 출력만 사용 (가장 최근 정보를 활용)\n",
    "        # 또는 전체 시퀀스 출력을 평균내거나, Max/Mean Pooling을 적용할 수도 있습니다.\n",
    "        regression_input = transformer_output[:, -1, :]  # (batch_size, model_dim)\n",
    "\n",
    "        # 회귀 헤드를 통해 최종 값 예측\n",
    "        output = self.output_linear(regression_input)  # (batch_size, 1)\n",
    "        return output"
   ],
   "id": "46d878fdc05d25c4",
   "outputs": [],
   "execution_count": 8
  },
  {
   "metadata": {
    "ExecuteTime": {
     "end_time": "2025-06-10T07:32:37.380161Z",
     "start_time": "2025-06-10T07:32:37.348989Z"
    }
   },
   "cell_type": "code",
   "source": [
    "# 모델 파라미터 설정\n",
    "INPUT_DIM = train_feature.shape[2]  # 각 시점 데이터의 차원 (여기서는 사인 값 하나이므로 1)\n",
    "MODEL_DIM = 256  # 트랜스포머 내부 모델 차원\n",
    "NUM_HEADS = 4  # 어텐션 헤드 수\n",
    "NUM_LAYERS = 3  # 인코더 레이어 수\n",
    "DROPOUT = 0.1\n",
    "\n",
    "model = SimpleTransformerRegression(INPUT_DIM, MODEL_DIM, NUM_HEADS, NUM_LAYERS, DROPOUT)\n",
    "print(model)"
   ],
   "id": "711ce59c7e01f44b",
   "outputs": [
    {
     "name": "stdout",
     "output_type": "stream",
     "text": [
      "\n",
      "모델 구조:\n",
      "SimpleTransformerRegression(\n",
      "  (input_linear): Linear(in_features=8, out_features=256, bias=True)\n",
      "  (transformer_encoder): TransformerEncoder(\n",
      "    (layers): ModuleList(\n",
      "      (0-2): 3 x TransformerEncoderLayer(\n",
      "        (self_attn): MultiheadAttention(\n",
      "          (out_proj): NonDynamicallyQuantizableLinear(in_features=256, out_features=256, bias=True)\n",
      "        )\n",
      "        (linear1): Linear(in_features=256, out_features=2048, bias=True)\n",
      "        (dropout): Dropout(p=0.1, inplace=False)\n",
      "        (linear2): Linear(in_features=2048, out_features=256, bias=True)\n",
      "        (norm1): LayerNorm((256,), eps=1e-05, elementwise_affine=True)\n",
      "        (norm2): LayerNorm((256,), eps=1e-05, elementwise_affine=True)\n",
      "        (dropout1): Dropout(p=0.1, inplace=False)\n",
      "        (dropout2): Dropout(p=0.1, inplace=False)\n",
      "      )\n",
      "    )\n",
      "  )\n",
      "  (output_linear): Linear(in_features=256, out_features=1, bias=True)\n",
      ")\n"
     ]
    }
   ],
   "execution_count": 9
  },
  {
   "metadata": {
    "ExecuteTime": {
     "end_time": "2025-06-10T07:32:37.426194Z",
     "start_time": "2025-06-10T07:32:37.418196Z"
    }
   },
   "cell_type": "code",
   "source": [
    "X_train = torch.FloatTensor(train_feature)\n",
    "y_train = torch.FloatTensor(train_target).unsqueeze(1)\n",
    "X_test = torch.FloatTensor(val_feature)\n",
    "y_test = torch.FloatTensor(val_target).unsqueeze(1)"
   ],
   "id": "8cc97fc52b3dac18",
   "outputs": [],
   "execution_count": 10
  },
  {
   "metadata": {
    "ExecuteTime": {
     "end_time": "2025-06-10T07:53:51.063029Z",
     "start_time": "2025-06-10T07:32:46.627990Z"
    }
   },
   "cell_type": "code",
   "source": [
    "criterion = nn.MSELoss()  # 평균 제곱 오차 (회귀 문제에 적합)\n",
    "optimizer = torch.optim.Adam(model.parameters(), lr=0.001)\n",
    "\n",
    "NUM_EPOCHS = 100\n",
    "\n",
    "# GPU 사용 가능 여부 확인\n",
    "device = torch.device(\"cuda\" if torch.cuda.is_available() else \"cpu\")\n",
    "model.to(device)\n",
    "X_train = X_train.to(device)\n",
    "y_train = y_train.to(device)\n",
    "X_test = X_test.to(device)\n",
    "y_test = y_test.to(device)\n",
    "\n",
    "# --- 4. 모델 학습 ---\n",
    "print(\"\\n모델 학습 시작...\")\n",
    "train_losses = []\n",
    "for epoch in range(NUM_EPOCHS):\n",
    "    model.train()  # 학습 모드\n",
    "    optimizer.zero_grad()\n",
    "\n",
    "    outputs = model(X_train)\n",
    "    loss = criterion(outputs, y_train)\n",
    "\n",
    "    loss.backward()\n",
    "    optimizer.step()\n",
    "\n",
    "    train_losses.append(loss.item())\n",
    "\n",
    "    print(f'Epoch [{epoch + 1}/{NUM_EPOCHS}], Loss: {loss.item():.4f}')\n",
    "\n",
    "print(\"모델 학습 완료.\")"
   ],
   "id": "2fa5dd9e45f804b2",
   "outputs": [
    {
     "name": "stdout",
     "output_type": "stream",
     "text": [
      "\n",
      "모델 학습 시작...\n"
     ]
    },
    {
     "name": "stderr",
     "output_type": "stream",
     "text": [
      "C:\\Users\\jinbeom\\miniconda3\\envs\\pytorch_240_gpu_python311\\Lib\\site-packages\\torch\\nn\\functional.py:5560: UserWarning: 1Torch was not compiled with flash attention. (Triggered internally at C:\\cb\\pytorch_1000000000000\\work\\aten\\src\\ATen\\native\\transformers\\cuda\\sdp_utils.cpp:555.)\n",
      "  attn_output = scaled_dot_product_attention(q, k, v, attn_mask, dropout_p, is_causal)\n"
     ]
    },
    {
     "name": "stdout",
     "output_type": "stream",
     "text": [
      "Epoch [1/100], Loss: 0.2896\n",
      "Epoch [2/100], Loss: 48.5714\n",
      "Epoch [3/100], Loss: 12.9144\n",
      "Epoch [4/100], Loss: 0.2425\n",
      "Epoch [5/100], Loss: 2.6398\n",
      "Epoch [6/100], Loss: 3.0277\n",
      "Epoch [7/100], Loss: 1.3719\n",
      "Epoch [8/100], Loss: 0.1204\n",
      "Epoch [9/100], Loss: 0.3600\n",
      "Epoch [10/100], Loss: 0.7284\n",
      "Epoch [11/100], Loss: 0.4748\n",
      "Epoch [12/100], Loss: 0.1426\n",
      "Epoch [13/100], Loss: 0.0241\n",
      "Epoch [14/100], Loss: 0.0828\n",
      "Epoch [15/100], Loss: 0.1786\n",
      "Epoch [16/100], Loss: 0.2174\n",
      "Epoch [17/100], Loss: 0.1917\n",
      "Epoch [18/100], Loss: 0.1265\n",
      "Epoch [19/100], Loss: 0.0619\n",
      "Epoch [20/100], Loss: 0.0273\n",
      "Epoch [21/100], Loss: 0.0300\n",
      "Epoch [22/100], Loss: 0.0561\n",
      "Epoch [23/100], Loss: 0.0813\n",
      "Epoch [24/100], Loss: 0.0900\n",
      "Epoch [25/100], Loss: 0.0800\n",
      "Epoch [26/100], Loss: 0.0608\n",
      "Epoch [27/100], Loss: 0.0404\n",
      "Epoch [28/100], Loss: 0.0271\n",
      "Epoch [29/100], Loss: 0.0242\n",
      "Epoch [30/100], Loss: 0.0294\n",
      "Epoch [31/100], Loss: 0.0380\n",
      "Epoch [32/100], Loss: 0.0447\n",
      "Epoch [33/100], Loss: 0.0463\n",
      "Epoch [34/100], Loss: 0.0434\n",
      "Epoch [35/100], Loss: 0.0367\n",
      "Epoch [36/100], Loss: 0.0295\n",
      "Epoch [37/100], Loss: 0.0252\n",
      "Epoch [38/100], Loss: 0.0236\n",
      "Epoch [39/100], Loss: 0.0258\n"
     ]
    },
    {
     "ename": "KeyboardInterrupt",
     "evalue": "",
     "output_type": "error",
     "traceback": [
      "\u001B[31m---------------------------------------------------------------------------\u001B[39m",
      "\u001B[31mKeyboardInterrupt\u001B[39m                         Traceback (most recent call last)",
      "\u001B[36mCell\u001B[39m\u001B[36m \u001B[39m\u001B[32mIn[11]\u001B[39m\u001B[32m, line 27\u001B[39m\n\u001B[32m     24\u001B[39m     loss.backward()\n\u001B[32m     25\u001B[39m     optimizer.step()\n\u001B[32m---> \u001B[39m\u001B[32m27\u001B[39m     train_losses.append(\u001B[43mloss\u001B[49m\u001B[43m.\u001B[49m\u001B[43mitem\u001B[49m\u001B[43m(\u001B[49m\u001B[43m)\u001B[49m)\n\u001B[32m     29\u001B[39m     \u001B[38;5;28mprint\u001B[39m(\u001B[33mf\u001B[39m\u001B[33m'\u001B[39m\u001B[33mEpoch [\u001B[39m\u001B[38;5;132;01m{\u001B[39;00mepoch\u001B[38;5;250m \u001B[39m+\u001B[38;5;250m \u001B[39m\u001B[32m1\u001B[39m\u001B[38;5;132;01m}\u001B[39;00m\u001B[33m/\u001B[39m\u001B[38;5;132;01m{\u001B[39;00mNUM_EPOCHS\u001B[38;5;132;01m}\u001B[39;00m\u001B[33m], Loss: \u001B[39m\u001B[38;5;132;01m{\u001B[39;00mloss.item()\u001B[38;5;132;01m:\u001B[39;00m\u001B[33m.4f\u001B[39m\u001B[38;5;132;01m}\u001B[39;00m\u001B[33m'\u001B[39m)\n\u001B[32m     31\u001B[39m \u001B[38;5;28mprint\u001B[39m(\u001B[33m\"\u001B[39m\u001B[33m모델 학습 완료.\u001B[39m\u001B[33m\"\u001B[39m)\n",
      "\u001B[31mKeyboardInterrupt\u001B[39m: "
     ]
    }
   ],
   "execution_count": 11
  },
  {
   "metadata": {
    "ExecuteTime": {
     "end_time": "2025-06-10T07:54:17.555193Z",
     "start_time": "2025-06-10T07:53:56.684098Z"
    }
   },
   "cell_type": "code",
   "source": [
    "# --- 5. 모델 평가 및 예측 ---\n",
    "model.eval()\n",
    "# 평가 모드\n",
    "with torch.no_grad():\n",
    "    train_predict = np.squeeze(model(X_train).cpu().numpy())\n",
    "    test_predict = np.squeeze(model(X_test).cpu().numpy())"
   ],
   "id": "10ab84c251fc7f1e",
   "outputs": [],
   "execution_count": 13
  },
  {
   "metadata": {
    "ExecuteTime": {
     "end_time": "2025-06-10T08:14:26.099644Z",
     "start_time": "2025-06-10T08:14:25.952128Z"
    }
   },
   "cell_type": "code",
   "source": [
    "sns.lineplot(val_target)\n",
    "sns.lineplot(test_predict)"
   ],
   "id": "2e10310e709b796c",
   "outputs": [
    {
     "data": {
      "text/plain": [
       "<Axes: >"
      ]
     },
     "execution_count": 16,
     "metadata": {},
     "output_type": "execute_result"
    },
    {
     "data": {
      "text/plain": [
       "<Figure size 640x480 with 1 Axes>"
      ],
      "image/png": "[encoded data removed]"
     },
     "metadata": {},
     "output_type": "display_data"
    }
   ],
   "execution_count": 16
  },
  {
   "metadata": {
    "ExecuteTime": {
     "end_time": "2025-06-10T07:54:17.811956Z",
     "start_time": "2025-06-10T07:54:17.611546Z"
    }
   },
   "cell_type": "code",
   "source": [
    "sns.scatterplot(x=train_target, y=train_predict)\n",
    "\n",
    "plt.xlim(0, 1)\n",
    "plt.ylim(0, 1)"
   ],
   "id": "f2d6869cb4113021",
   "outputs": [
    {
     "data": {
      "text/plain": [
       "(0.0, 1.0)"
      ]
     },
     "execution_count": 14,
     "metadata": {},
     "output_type": "execute_result"
    },
    {
     "data": {
      "text/plain": [
       "<Figure size 640x480 with 1 Axes>"
      ],
      "image/png": "[encoded data removed]"
     },
     "metadata": {},
     "output_type": "display_data"
    }
   ],
   "execution_count": 14
  },
  {
   "metadata": {
    "ExecuteTime": {
     "end_time": "2025-06-10T07:54:18.027536Z",
     "start_time": "2025-06-10T07:54:17.887018Z"
    }
   },
   "cell_type": "code",
   "source": "sns.scatterplot(x=val_target, y=test_predict)",
   "id": "1bb232e86d11104c",
   "outputs": [
    {
     "data": {
      "text/plain": [
       "<Axes: >"
      ]
     },
     "execution_count": 15,
     "metadata": {},
     "output_type": "execute_result"
    },
    {
     "data": {
      "text/plain": [
       "<Figure size 640x480 with 1 Axes>"
      ],
      "image/png": "[encoded data removed]"
     },
     "metadata": {},
     "output_type": "display_data"
    }
   ],
   "execution_count": 15
  },
  {
   "metadata": {},
   "cell_type": "code",
   "outputs": [],
   "execution_count": null,
   "source": [
    "# 예측 결과 시각화\n",
    "plt.figure(figsize=(15, 6))\n",
    "\n",
    "plt.plot(np.arange(NUM_SAMPLES), y_np, label='Original Data')\n",
    "plt.plot(np.arange(train_size, NUM_SAMPLES), test_predict, label='Predicted (Test Set)', linestyle='--')\n",
    "plt.plot(np.arange(train_size), train_predict, label='Predicted (Train Set)', linestyle=':')\n",
    "\n",
    "plt.title('Sine Wave Prediction with Transformer Regression')\n",
    "plt.xlabel('Time Step')\n",
    "plt.ylabel('Value')\n",
    "plt.legend()\n",
    "plt.grid(True)\n",
    "plt.show()\n",
    "\n",
    "# 학습 손실 시각화\n",
    "plt.figure(figsize=(10, 5))\n",
    "plt.plot(train_losses)\n",
    "plt.title('Training Loss over Epochs')\n",
    "plt.xlabel('Epoch')\n",
    "plt.ylabel('Loss')\n",
    "plt.grid(True)\n",
    "plt.show()\n",
    "\n",
    "# 테스트 오차 계산\n",
    "test_loss = criterion(torch.tensor(test_predict).to(device), y_test).item()\n",
    "print(f\"\\nTest Loss (MSE): {test_loss:.4f}\")"
   ],
   "id": "b76724b785c3c4f6"
  }
 ],
 "metadata": {
  "kernelspec": {
   "display_name": "Python 3",
   "language": "python",
   "name": "python3"
  },
  "language_info": {
   "codemirror_mode": {
    "name": "ipython",
    "version": 2
   },
   "file_extension": ".py",
   "mimetype": "text/x-python",
   "name": "python",
   "nbconvert_exporter": "python",
   "pygments_lexer": "ipython2",
   "version": "2.7.6"
  }
 },
 "nbformat": 4,
 "nbformat_minor": 5
}
