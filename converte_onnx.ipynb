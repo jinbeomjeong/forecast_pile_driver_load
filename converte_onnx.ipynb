{
 "cells": [
  {
   "cell_type": "code",
   "id": "initial_id",
   "metadata": {
    "collapsed": true,
    "ExecuteTime": {
     "end_time": "2024-10-20T11:07:03.651120Z",
     "start_time": "2024-10-20T11:06:58.186383Z"
    }
   },
   "source": [
    "import tf2onnx\n",
    "from tensorflow import keras"
   ],
   "outputs": [
    {
     "name": "stdout",
     "output_type": "stream",
     "text": [
      "WARNING:tensorflow:From C:\\Users\\jinbeom\\.conda\\envs\\tensorflow_to_onnx\\lib\\site-packages\\keras\\src\\losses.py:2976: The name tf.losses.sparse_softmax_cross_entropy is deprecated. Please use tf.compat.v1.losses.sparse_softmax_cross_entropy instead.\n",
      "\n",
      "WARNING:tensorflow:From C:\\Users\\jinbeom\\.conda\\envs\\tensorflow_to_onnx\\lib\\site-packages\\tf2onnx\\tf_loader.py:68: The name tf.reset_default_graph is deprecated. Please use tf.compat.v1.reset_default_graph instead.\n",
      "\n",
      "WARNING:tensorflow:From C:\\Users\\jinbeom\\.conda\\envs\\tensorflow_to_onnx\\lib\\site-packages\\tf2onnx\\tf_loader.py:72: The name tf.train.import_meta_graph is deprecated. Please use tf.compat.v1.train.import_meta_graph instead.\n",
      "\n"
     ]
    }
   ],
   "execution_count": 1
  },
  {
   "metadata": {
    "ExecuteTime": {
     "end_time": "2024-10-20T11:07:09.763844Z",
     "start_time": "2024-10-20T11:07:05.986069Z"
    }
   },
   "cell_type": "code",
   "source": [
    "keras_model = keras.models.load_model('model_1.keras')\n",
    "onnx_model, _ = tf2onnx.convert.from_keras(keras_model)\n",
    "\n",
    "# 변환된 ONNX 모델 저장\n",
    "with open('model.onnx', \"wb\") as f:\n",
    "    f.write(onnx_model.SerializeToString())"
   ],
   "id": "8b52b34116c47220",
   "outputs": [
    {
     "name": "stdout",
     "output_type": "stream",
     "text": [
      "WARNING:tensorflow:From C:\\Users\\jinbeom\\.conda\\envs\\tensorflow_to_onnx\\lib\\site-packages\\keras\\src\\backend.py:1398: The name tf.executing_eagerly_outside_functions is deprecated. Please use tf.compat.v1.executing_eagerly_outside_functions instead.\n",
      "\n",
      "WARNING:tensorflow:From C:\\Users\\jinbeom\\.conda\\envs\\tensorflow_to_onnx\\lib\\site-packages\\keras\\src\\backend.py:6642: The name tf.nn.max_pool is deprecated. Please use tf.nn.max_pool2d instead.\n",
      "\n"
     ]
    }
   ],
   "execution_count": 2
  }
 ],
 "metadata": {
  "kernelspec": {
   "display_name": "Python 3",
   "language": "python",
   "name": "python3"
  },
  "language_info": {
   "codemirror_mode": {
    "name": "ipython",
    "version": 2
   },
   "file_extension": ".py",
   "mimetype": "text/x-python",
   "name": "python",
   "nbconvert_exporter": "python",
   "pygments_lexer": "ipython2",
   "version": "2.7.6"
  }
 },
 "nbformat": 4,
 "nbformat_minor": 5
}
